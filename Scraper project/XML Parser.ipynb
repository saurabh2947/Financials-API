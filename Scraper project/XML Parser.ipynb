{
 "cells": [
  {
   "cell_type": "code",
   "execution_count": 280,
   "metadata": {},
   "outputs": [],
   "source": [
    "import xbrl, re\n",
    "import pandas as pd"
   ]
  },
  {
   "cell_type": "code",
   "execution_count": 273,
   "metadata": {},
   "outputs": [],
   "source": [
    "company='Laurus'\n",
    "path=\"XML Files\\\\\"\n",
    "extension='.xml'\n",
    "filename=path+company+extension\n",
    "doc=xbrl.XBRLParser.parse(open(filename))\n",
    "df=pd.DataFrame()"
   ]
  },
  {
   "cell_type": "code",
   "execution_count": 274,
   "metadata": {},
   "outputs": [],
   "source": [
    "doc=str(doc)\n",
    "b=len(doc)"
   ]
  },
  {
   "cell_type": "code",
   "execution_count": 275,
   "metadata": {},
   "outputs": [],
   "source": [
    "a=re.search(r'(.*?)<in-bse-fin:scripcode',doc).end()-21\n",
    "cleandoc=doc[a:b]\n",
    "cleandoc=cleandoc.replace(\"\\n\", \"\")"
   ]
  },
  {
   "cell_type": "code",
   "execution_count": 276,
   "metadata": {},
   "outputs": [],
   "source": [
    "cntxt=re.compile(r'contextref=\\\"(.*?)\\\"')\n",
    "j=cntxt.findall(cleandoc)\n",
    "df['Context']=j"
   ]
  },
  {
   "cell_type": "code",
   "execution_count": 277,
   "metadata": {},
   "outputs": [],
   "source": [
    "arg=re.compile(r'</in-bse-fin:(.*?)>')\n",
    "k=arg.findall(cleandoc)\n",
    "df['keys']=k"
   ]
  },
  {
   "cell_type": "code",
   "execution_count": 278,
   "metadata": {},
   "outputs": [],
   "source": [
    "value=re.compile(r'\\\">(.*?)</in-bse-fin:',re.DOTALL)\n",
    "n=value.findall(str(cleandoc))\n",
    "df['values']=n"
   ]
  },
  {
   "cell_type": "code",
   "execution_count": 279,
   "metadata": {},
   "outputs": [],
   "source": [
    "df.set_index('keys',inplace=True)\n",
    "df.to_csv(path+company+'.csv')"
   ]
  },
  {
   "cell_type": "code",
   "execution_count": null,
   "metadata": {},
   "outputs": [],
   "source": []
  }
 ],
 "metadata": {
  "kernelspec": {
   "display_name": "Python 3",
   "language": "python",
   "name": "python3"
  },
  "language_info": {
   "codemirror_mode": {
    "name": "ipython",
    "version": 3
   },
   "file_extension": ".py",
   "mimetype": "text/x-python",
   "name": "python",
   "nbconvert_exporter": "python",
   "pygments_lexer": "ipython3",
   "version": "3.7.6"
  }
 },
 "nbformat": 4,
 "nbformat_minor": 4
}
