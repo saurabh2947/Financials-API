{
 "cells": [
  {
   "cell_type": "code",
   "execution_count": 17,
   "metadata": {},
   "outputs": [],
   "source": [
    "import urllib.request\n",
    "from urllib.error import URLError, HTTPError, ContentTooShortError\n",
    "import re\n",
    "import itertools\n",
    "from string import ascii_lowercase"
   ]
  },
  {
   "cell_type": "code",
   "execution_count": 19,
   "metadata": {},
   "outputs": [],
   "source": [
    "def download(url,user_agent='wswp',tries=1):\n",
    "    print('Downloading... {}'.format(url))\n",
    "    request=urllib.request.Request(url)\n",
    "    request.add_header('User-agent',user_agent)\n",
    "    ctr=0\n",
    "    while (ctr<tries):\n",
    "        try:\n",
    "            html=urllib.request.urlopen(url).read()\n",
    "            return str(html)\n",
    "        except (URLError, HTTPError, ContentTooShortError) as e:\n",
    "            print('Error: {} (try: {})'.format(e.reason,ctr+1))\n",
    "            if hasattr(e,'code') and 500<=e.code<600:\n",
    "                ctr+=1\n",
    "                continue\n",
    "            break"
   ]
  },
  {
   "cell_type": "code",
   "execution_count": 24,
   "metadata": {},
   "outputs": [],
   "source": [
    "from urllib.parse import urlparse\n",
    "import time\n",
    "class Throttle:\n",
    "    \"\"\"Add a delay between downloads to the same domain\n",
    "    \"\"\"\n",
    "    def __init__(self, delay):\n",
    "        # amount of delay between downloads for each domain\n",
    "        self.delay = delay\n",
    "        # timestamp of when a domain was last accessed\n",
    "        self.domains = {}\n",
    "    def wait(self, url):\n",
    "        domain = urlparse(url).netloc\n",
    "        last_accessed = self.domains.get(domain)\n",
    "        if self.delay > 0 and last_accessed is not None:\n",
    "            sleep_secs = self.delay - (time.time() - last_accessed)\n",
    "            if sleep_secs > 0:\n",
    "                # domain has been accessed recently\n",
    "                # so need to sleep\n",
    "                time.sleep(sleep_secs)\n",
    "        # update the last accessed time\n",
    "        self.domains[domain] = time.time()"
   ]
  },
  {
   "cell_type": "code",
   "execution_count": 63,
   "metadata": {},
   "outputs": [
    {
     "name": "stdout",
     "output_type": "stream",
     "text": [
      "Downloading... https://money.rediff.com/companies/a\n",
      "Downloading... https://money.rediff.com/companies/b\n",
      "Downloading... https://money.rediff.com/companies/c\n",
      "Downloading... https://money.rediff.com/companies/d\n",
      "Downloading... https://money.rediff.com/companies/e\n",
      "Downloading... https://money.rediff.com/companies/f\n",
      "Downloading... https://money.rediff.com/companies/g\n",
      "Downloading... https://money.rediff.com/companies/h\n",
      "Downloading... https://money.rediff.com/companies/i\n",
      "Downloading... https://money.rediff.com/companies/j\n",
      "Downloading... https://money.rediff.com/companies/k\n",
      "Downloading... https://money.rediff.com/companies/l\n",
      "Downloading... https://money.rediff.com/companies/m\n",
      "Downloading... https://money.rediff.com/companies/n\n",
      "Downloading... https://money.rediff.com/companies/o\n",
      "Downloading... https://money.rediff.com/companies/p\n",
      "Downloading... https://money.rediff.com/companies/q\n",
      "Downloading... https://money.rediff.com/companies/r\n",
      "Downloading... https://money.rediff.com/companies/s\n",
      "Downloading... https://money.rediff.com/companies/t\n",
      "Downloading... https://money.rediff.com/companies/u\n",
      "Downloading... https://money.rediff.com/companies/v\n",
      "Downloading... https://money.rediff.com/companies/w\n",
      "Downloading... https://money.rediff.com/companies/x\n",
      "Downloading... https://money.rediff.com/companies/y\n",
      "Downloading... https://money.rediff.com/companies/z\n"
     ]
    }
   ],
   "source": [
    "throttle = Throttle(2)\n",
    "a=[]\n",
    "for x in ascii_lowercase:\n",
    "    throttle.wait('https://money.rediff.com')\n",
    "    html=str(download('https://money.rediff.com/companies/{}'.format(x)))\n",
    "    len=re.search('>Showing 1 - (.*?) of (.*?) ',html)\n",
    "    a.append(int(len.group(2)))"
   ]
  },
  {
   "cell_type": "code",
   "execution_count": 76,
   "metadata": {},
   "outputs": [],
   "source": [
    "index=a"
   ]
  },
  {
   "cell_type": "code",
   "execution_count": 102,
   "metadata": {},
   "outputs": [],
   "source": [
    "def search_codes(url):\n",
    "    html=str(download(url))\n",
    "    k=re.findall(r'<td>(\\d\\d\\d\\d\\d\\d)</td>',html)\n",
    "    return k"
   ]
  },
  {
   "cell_type": "code",
   "execution_count": 103,
   "metadata": {},
   "outputs": [
    {
     "name": "stdout",
     "output_type": "stream",
     "text": [
      "Downloading... https://money.rediff.com/companies/a/1-200\n",
      "Downloading... https://money.rediff.com/companies/a/201-400\n",
      "Downloading... https://money.rediff.com/companies/a/401-600\n",
      "Downloading... https://money.rediff.com/companies/b/1-200\n",
      "Downloading... https://money.rediff.com/companies/b/201-400\n",
      "Downloading... https://money.rediff.com/companies/c/1-200\n",
      "Downloading... https://money.rediff.com/companies/c/201-400\n",
      "Downloading... https://money.rediff.com/companies/d/1-200\n",
      "Downloading... https://money.rediff.com/companies/e/1-200\n",
      "Downloading... https://money.rediff.com/companies/f/1-200\n",
      "Downloading... https://money.rediff.com/companies/g/1-200\n",
      "Downloading... https://money.rediff.com/companies/g/201-400\n",
      "Downloading... https://money.rediff.com/companies/h/1-200\n",
      "Downloading... https://money.rediff.com/companies/i/1-200\n",
      "Downloading... https://money.rediff.com/companies/i/201-400\n",
      "Downloading... https://money.rediff.com/companies/j/1-200\n",
      "Downloading... https://money.rediff.com/companies/k/1-200\n",
      "Downloading... https://money.rediff.com/companies/k/201-400\n",
      "Downloading... https://money.rediff.com/companies/l/1-200\n",
      "Downloading... https://money.rediff.com/companies/m/1-200\n",
      "Downloading... https://money.rediff.com/companies/m/201-400\n",
      "Downloading... https://money.rediff.com/companies/n/1-200\n",
      "Downloading... https://money.rediff.com/companies/o/1-200\n",
      "Downloading... https://money.rediff.com/companies/p/1-200\n",
      "Downloading... https://money.rediff.com/companies/p/201-400\n",
      "Downloading... https://money.rediff.com/companies/q/1-200\n",
      "Downloading... https://money.rediff.com/companies/r/1-200\n",
      "Downloading... https://money.rediff.com/companies/r/201-400\n",
      "Downloading... https://money.rediff.com/companies/s/1-200\n",
      "Downloading... https://money.rediff.com/companies/s/201-400\n",
      "Downloading... https://money.rediff.com/companies/s/401-600\n",
      "Downloading... https://money.rediff.com/companies/s/601-800\n",
      "Downloading... https://money.rediff.com/companies/t/1-200\n",
      "Downloading... https://money.rediff.com/companies/t/201-400\n",
      "Downloading... https://money.rediff.com/companies/u/1-200\n",
      "Downloading... https://money.rediff.com/companies/v/1-200\n",
      "Downloading... https://money.rediff.com/companies/w/1-200\n",
      "Downloading... https://money.rediff.com/companies/x/1-200\n",
      "Downloading... https://money.rediff.com/companies/y/1-200\n",
      "Downloading... https://money.rediff.com/companies/z/1-200\n",
      "Downloading... https://money.rediff.com/companies/others\n"
     ]
    }
   ],
   "source": [
    "throttle = Throttle(2)\n",
    "ctr=0\n",
    "b=[]\n",
    "prod=[]\n",
    "for x in ascii_lowercase:\n",
    "    throttle.wait('https://money.rediff.com')\n",
    "    for i in itertools.count(1,200):\n",
    "        if(i>limit):\n",
    "            break\n",
    "        b=search_codes('https://money.rediff.com/companies/{}/{}-{}'.format(x,i,i+199))\n",
    "        for item in b:\n",
    "            prod.append(int(item))\n",
    "        limit=index[ctr]\n",
    "    ctr+=1\n",
    "b=search_codes('https://money.rediff.com/companies/others')\n",
    "for item in b:\n",
    "    prod.append(int(item))"
   ]
  },
  {
   "cell_type": "code",
   "execution_count": 114,
   "metadata": {},
   "outputs": [],
   "source": [
    "import csv"
   ]
  },
  {
   "cell_type": "code",
   "execution_count": 122,
   "metadata": {},
   "outputs": [],
   "source": [
    "with open('scripcodes.csv','w') as f:\n",
    "    writer=csv.writer(f)\n",
    "    writer.writerow(prod)\n",
    "f.close()"
   ]
  },
  {
   "cell_type": "code",
   "execution_count": null,
   "metadata": {},
   "outputs": [],
   "source": []
  }
 ],
 "metadata": {
  "kernelspec": {
   "display_name": "Python 3",
   "language": "python",
   "name": "python3"
  },
  "language_info": {
   "codemirror_mode": {
    "name": "ipython",
    "version": 3
   },
   "file_extension": ".py",
   "mimetype": "text/x-python",
   "name": "python",
   "nbconvert_exporter": "python",
   "pygments_lexer": "ipython3",
   "version": "3.7.5"
  }
 },
 "nbformat": 4,
 "nbformat_minor": 4
}
